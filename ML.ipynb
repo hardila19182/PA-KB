{
  "nbformat": 4,
  "nbformat_minor": 0,
  "metadata": {
    "colab": {
      "private_outputs": true,
      "provenance": []
    },
    "kernelspec": {
      "name": "python3",
      "display_name": "Python 3"
    },
    "language_info": {
      "name": "python"
    },
    "gpuClass": "standard",
    "accelerator": "GPU"
  },
  "cells": [
    {
      "cell_type": "markdown",
      "source": [
        "**Download Dataset dari API kaggle.com**"
      ],
      "metadata": {
        "id": "AgdaR_ohHMcz"
      }
    },
    {
      "cell_type": "code",
      "execution_count": null,
      "metadata": {
        "id": "Sd4ubUUMI51C"
      },
      "outputs": [],
      "source": [
        "! chmod 600 kaggle.json\n",
        "! KAGGLE_CONFIG_DIR=/content/  kaggle datasets download -d ma7555/cat-breeds-dataset"
      ]
    },
    {
      "cell_type": "markdown",
      "source": [
        "Extract File Dataset"
      ],
      "metadata": {
        "id": "AU98G-hqHYw1"
      }
    },
    {
      "cell_type": "code",
      "source": [
        "import zipfile \n",
        "datasetZip = zipfile.ZipFile('/content/cat-breeds-dataset.zip')\n",
        "datasetZip.extractall('/content/')"
      ],
      "metadata": {
        "id": "ofVzXvU2Qmww"
      },
      "execution_count": null,
      "outputs": []
    },
    {
      "cell_type": "markdown",
      "source": [
        "Mempersiapkan path folder"
      ],
      "metadata": {
        "id": "iCdM3pvOuEfa"
      }
    },
    {
      "cell_type": "code",
      "source": [
        "import os\n",
        "base_path = '/content/images'\n",
        "cat_classes = os.listdir(base_path)\n",
        "len(cat_classes)"
      ],
      "metadata": {
        "id": "xScr8vlrwvi6"
      },
      "execution_count": null,
      "outputs": []
    },
    {
      "cell_type": "markdown",
      "source": [
        "**Image Preprocessing**"
      ],
      "metadata": {
        "id": "buKjKMcfICIg"
      }
    },
    {
      "cell_type": "code",
      "source": [
        "import tensorflow as tf\n",
        "from tensorflow.keras.optimizers import RMSprop\n",
        "from tensorflow.keras.preprocessing.image import ImageDataGenerator"
      ],
      "metadata": {
        "id": "HVu6TtfqIAHE"
      },
      "execution_count": null,
      "outputs": []
    },
    {
      "cell_type": "code",
      "source": [
        "train_datagen = ImageDataGenerator(\n",
        "    rescale = 1./255,\n",
        "    rotation_range = 30,\n",
        "    horizontal_flip = True,\n",
        "    vertical_flip = True,\n",
        "    shear_range = 0.2,\n",
        "    fill_mode = 'nearest',\n",
        "    width_shift_range = .2,\n",
        "    height_shift_range = .2,\n",
        "    validation_split = 0.2\n",
        ")"
      ],
      "metadata": {
        "id": "84OLJ8K9JCa1"
      },
      "execution_count": null,
      "outputs": []
    },
    {
      "cell_type": "code",
      "source": [
        "train_generator = train_datagen.flow_from_directory(\n",
        "    base_path,\n",
        "    target_size = (100,150),\n",
        "    classes = cat_classes,\n",
        "    class_mode = 'categorical',\n",
        "    subset = 'training',\n",
        "    shuffle = False\n",
        ")\n",
        "\n",
        "validation_generator = train_datagen.flow_from_directory(\n",
        "    base_path,\n",
        "    target_size = (100,150),\n",
        "    classes = cat_classes,\n",
        "    class_mode = 'categorical',\n",
        "    subset = 'validation',\n",
        "    shuffle = True\n",
        ")"
      ],
      "metadata": {
        "id": "T90Ww7zaJoDc"
      },
      "execution_count": null,
      "outputs": []
    },
    {
      "cell_type": "code",
      "source": [
        "print(train_generator[0])"
      ],
      "metadata": {
        "id": "KSW3lGp6x2iM"
      },
      "execution_count": null,
      "outputs": []
    },
    {
      "cell_type": "code",
      "source": [
        "#\n",
        "class myCallback(tf.keras.callbacks.Callback):\n",
        "  def on_epoch_end(self, epoch, logs = {}) :\n",
        "    if(logs.get('accuracy') > 0.99) :\n",
        "      print('\\nAkurasi mencapai 99%')\n",
        "      self.model.stop_training = True\n",
        "\n",
        "callbacks = myCallback()"
      ],
      "metadata": {
        "id": "0XpjH_X31_bW"
      },
      "execution_count": null,
      "outputs": []
    },
    {
      "cell_type": "markdown",
      "source": [
        "**Training Model**"
      ],
      "metadata": {
        "id": "ZmnGW1xNLjAP"
      }
    },
    {
      "cell_type": "code",
      "source": [
        "model = tf.keras.models.Sequential([\n",
        "    tf.keras.layers.Conv2D(32,(3,3), activation='relu', input_shape = (100, 150, 3)),\n",
        "    tf.keras.layers.MaxPooling2D(2,2),\n",
        "    tf.keras.layers.Conv2D(64,(3,3), activation='relu'),\n",
        "    tf.keras.layers.MaxPooling2D(2,2),\n",
        "    tf.keras.layers.Conv2D(32,(3,3), activation='relu'),\n",
        "    tf.keras.layers.MaxPooling2D(2,2),\n",
        "    tf.keras.layers.Flatten(),\n",
        "    tf.keras.layers.Dense(200, activation = 'relu'),\n",
        "    tf.keras.layers.Dropout(0.3, seed=112),\n",
        "    tf.keras.layers.Dense(500, activation = 'relu'),\n",
        "    tf.keras.layers.Dropout(0.5, seed=112),\n",
        "    tf.keras.layers.Dense(3, activation = 'softmax')\n",
        "\n",
        "])\n",
        "\n",
        "model.summary()"
      ],
      "metadata": {
        "id": "KMPQWcN1LoN2"
      },
      "execution_count": null,
      "outputs": []
    },
    {
      "cell_type": "code",
      "source": [
        "model.compile(\n",
        "    loss= 'sparse_categorical_crossentropy',\n",
        "    optimizer = 'Adam',\n",
        "    metrics = ['accuracy']\n",
        ")\n"
      ],
      "metadata": {
        "id": "le1pts8BNfnS"
      },
      "execution_count": null,
      "outputs": []
    },
    {
      "cell_type": "code",
      "source": [
        "\n",
        "result = model.fit(\n",
        "    train_generator,\n",
        "    steps_per_epoch = 20,\n",
        "    epochs = 10,\n",
        "    validation_steps = 5,\n",
        "    validation_data = validation_generator,\n",
        "    verbose = 1,\n",
        "    batch_size=8,\n",
        "    callbacks = [callbacks]\n",
        ")\n",
        "\n"
      ],
      "metadata": {
        "id": "VhDi_KE8OBRq"
      },
      "execution_count": null,
      "outputs": []
    },
    {
      "cell_type": "markdown",
      "source": [
        "**Upload Image**"
      ],
      "metadata": {
        "id": "q8OipC1O9c_c"
      }
    },
    {
      "cell_type": "code",
      "source": [
        "import numpy as np\n",
        "from google.colab import files\n",
        "from keras.preprocessing import image\n",
        "import matplotlib.pyplot as plt\n",
        "import matplotlib.image as mpimg\n",
        "import matplotlib.pyplot as plt\n",
        "import matplotlib.image as mpimg\n",
        "%matplotlib inline"
      ],
      "metadata": {
        "id": "Avrq4bVw9hQ4"
      },
      "execution_count": null,
      "outputs": []
    },
    {
      "cell_type": "code",
      "source": [
        "cat_classes"
      ],
      "metadata": {
        "id": "0dBin66T_tmA"
      },
      "execution_count": null,
      "outputs": []
    },
    {
      "cell_type": "code",
      "source": [
        "uploaded = files.upload()\n",
        " \n",
        "for fn in uploaded.keys():\n",
        " \n",
        "  # predicting images\n",
        "  path = fn\n",
        "  img = tf.keras.utils.load_img(path, target_size=(100,150))\n",
        "  imgplot = plt.imshow(img)\n",
        "  x = tf.keras.utils.img_to_array(img)\n",
        "  x = np.expand_dims(x, axis=0)\n",
        " \n",
        "  images = np.vstack([x])\n",
        "  classes = model.predict(images, batch_size=10)\n",
        "\n",
        "  class_list = os.listdir('images')\n",
        "  \n",
        "  print(fn)\n",
        "  # if classes[0][0]==1:\n",
        "  #   print('paper')\n",
        "  # elif classes[0][1]==1:\n",
        "  #   print('rock')\n",
        "  # elif classes[0][2]==1:\n",
        "  #   print('scissors')\n",
        "  # else:\n",
        "  #   print('unknown')\n",
        "  for i in range(len(class_list)) :\n",
        "    if classes[0][i] == 1. :\n",
        "      print(\"Gambar terseteksi sebagai \", class_list[i])\n",
        "      break"
      ],
      "metadata": {
        "id": "KAqodCBx9kCu"
      },
      "execution_count": null,
      "outputs": []
    }
  ]
}